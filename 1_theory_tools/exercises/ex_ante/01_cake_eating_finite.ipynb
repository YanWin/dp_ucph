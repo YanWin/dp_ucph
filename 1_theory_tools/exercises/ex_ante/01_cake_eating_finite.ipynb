{
 "cells": [
  {
   "cell_type": "code",
   "execution_count": 1,
   "metadata": {},
   "outputs": [],
   "source": [
    "# Load package \n",
    "import numpy as np"
   ]
  },
  {
   "cell_type": "markdown",
   "metadata": {},
   "source": [
    "<h1> Exercise 1: The Simplest Consumption Model (Cake Eating Problem)"
   ]
  },
  {
   "cell_type": "markdown",
   "metadata": {},
   "source": [
    "Consider the simplest consumption-saving model:\n",
    "\n",
    "$$\\begin{aligned}\n",
    "    V_1^*(W) &= \\max_{c_1,c_2,\\dots,c_T} \\{ \\sqrt{c_1} +\\beta \\sqrt{c_2}+\\beta^2\\sqrt{c_3}+\\cdots+\\beta^T\\sqrt{c_T} \\} \\\\\n",
    "    & \\text{s.t.} \\\\\n",
    "    W &= c_1 + c_2+\\cdots+c_T \\\\\n",
    "    c_t &\\in \\mathbb{N}, \\, \\forall t\n",
    "\\end{aligned}$$\n",
    "for $T=3$, $\\beta =0.9$ and $W=5$."
   ]
  },
  {
   "cell_type": "markdown",
   "metadata": {},
   "source": [
    "### 1. Solve the model using backwards induction: "
   ]
  },
  {
   "cell_type": "code",
   "execution_count": 9,
   "metadata": {},
   "outputs": [
    {
     "name": "stdout",
     "output_type": "stream",
     "text": [
      "[[0. 0. 0.]\n",
      " [1. 1. 1.]\n",
      " [1. 1. 2.]\n",
      " [1. 2. 3.]\n",
      " [2. 2. 4.]\n",
      " [2. 3. 5.]]\n",
      "[[0.         0.         0.        ]\n",
      " [1.         1.         1.        ]\n",
      " [1.9        1.9        1.41421356]\n",
      " [2.71       2.31421356 1.73205081]\n",
      " [3.12421356 2.68700577 2.        ]\n",
      " [3.49700577 3.00484301 2.23606798]]\n"
     ]
    }
   ],
   "source": [
    "# 1. Setup \n",
    "beta = 0.9\n",
    "W = 5\n",
    "T = 3\n",
    "\n",
    "# 2. Initialize\n",
    "Vstar_bi = np.nan+np.zeros([W+1,T])\n",
    "Cstar_bi = np.nan + np.zeros([W+1,T])\n",
    "Cstar_bi[:,T-1] = np.arange(W+1) \n",
    "Vstar_bi[:,T-1] = np.sqrt(Cstar_bi[:,T-1])\n",
    "# 3. solve\n",
    "\n",
    "# Loop over periods\n",
    "for t in range(T-2, -1, -1):  #from period T-2, until period 0, backwards  \n",
    "    \n",
    "    #loop over states\n",
    "    for w in range(W+1):\n",
    "        c = np.arange(w+1)\n",
    "        \n",
    "        #Fill in\n",
    "        w_c = w-c\n",
    "        V_next = Vstar_bi[w_c,t+1]\n",
    "\n",
    "        V_guess = np.sqrt(c)+beta*V_next\n",
    "        #print(c)\n",
    "        #print(V_guess)\n",
    "        Vstar_bi[w,t] = np.amax(V_guess)\n",
    "        Cstar_bi[w,t] = np.argmax(V_guess)\n",
    "        \n",
    "print(Cstar_bi)\n",
    "print(Vstar_bi)\n",
    "        \n"
   ]
  },
  {
   "cell_type": "markdown",
   "metadata": {},
   "source": [
    "### 2. Create a function with $\\beta$, $W$ and $T$ as inputs. "
   ]
  },
  {
   "cell_type": "code",
   "execution_count": 30,
   "metadata": {},
   "outputs": [],
   "source": [
    "# Define a function\n",
    "def solve_backwards(beta,W,T):\n",
    "        # 2. Initialize\n",
    "    Vstar_bi = np.nan+np.zeros([W+1,T])\n",
    "    Cstar_bi = np.nan + np.zeros([W+1,T])\n",
    "    Cstar_bi[:,T-1] = np.arange(W+1) \n",
    "    Vstar_bi[:,T-1] = np.sqrt(Cstar_bi[:,T-1])\n",
    "    # 3. solve\n",
    "    \n",
    "    # Loop over periods\n",
    "    for t in range(T-2, -1, -1):  #from period T-2, until period 0, backwards  \n",
    "        \n",
    "        #loop over states\n",
    "        for w in range(W+1):\n",
    "            c = np.arange(w+1)\n",
    "\n",
    "            # Fill in\n",
    "            w_c = w-c\n",
    "            V_next = Vstar_bi[w_c,t+1]\n",
    "            V_guess = np.sqrt(c)+beta*V_next\n",
    "            Vstar_bi[w,t] = np.amax(V_guess)\n",
    "            Cstar_bi[w,t] = np.argmax(V_guess)\n",
    "\n",
    "    return Cstar_bi, Vstar_bi"
   ]
  },
  {
   "cell_type": "markdown",
   "metadata": {},
   "source": [
    "### 3. Check that your function works \n",
    "\n",
    "Notice, C is our policy function. The policy function tells us the optimal way of spending our resources in a given period. "
   ]
  },
  {
   "cell_type": "code",
   "execution_count": 31,
   "metadata": {},
   "outputs": [],
   "source": [
    "beta = 0.9\n",
    "W = 5\n",
    "T = 3\n",
    "C,V = solve_backwards(beta=beta, W=W, T=T)"
   ]
  },
  {
   "cell_type": "markdown",
   "metadata": {},
   "source": [
    "### 4. Use the policy function to simulate how 5 resources now can be spend optimally over 3 periods.    "
   ]
  },
  {
   "cell_type": "code",
   "execution_count": 32,
   "metadata": {},
   "outputs": [
    {
     "name": "stdout",
     "output_type": "stream",
     "text": [
      "[2. 2. 1.]\n"
     ]
    }
   ],
   "source": [
    "# 4. simulate\n",
    "C_backwards = np.empty(T)\n",
    "W_now = W\n",
    "\n",
    "for t in range(T):\n",
    "    W_now = int(W_now)   # change the type to integreger 0,1,2,3 and so on\n",
    "    # Fill in. Hint, use the solution, C, you find above \n",
    "    c_now = C[W_now,t]\n",
    "    C_backwards[t]= c_now\n",
    "    W_next = W_now - c_now\n",
    "    W_now = W_next\n",
    "    \n",
    "\n",
    "print(C_backwards)"
   ]
  },
  {
   "cell_type": "markdown",
   "metadata": {},
   "source": [
    "<h3> 5. Solve the model for $T = 10$."
   ]
  },
  {
   "cell_type": "code",
   "execution_count": 33,
   "metadata": {},
   "outputs": [],
   "source": [
    "# 1. Setup \n",
    "beta = 0.9\n",
    "W = 5\n",
    "T = 10\n",
    "\n",
    "# 2. - 3. Solve \n",
    "C10, V10 = solve_backwards(beta,W,T)  # call function"
   ]
  },
  {
   "cell_type": "markdown",
   "metadata": {},
   "source": [
    "<h3> Simulate $C_1$, $C_2$,...,$C_{10}$ using the policy function found in 5) and W=5"
   ]
  },
  {
   "cell_type": "code",
   "execution_count": 34,
   "metadata": {},
   "outputs": [
    {
     "name": "stdout",
     "output_type": "stream",
     "text": [
      "Solution for C with T = 10 and W = 5 : C = [1. 1. 1. 1. 1. 0. 0. 0. 0. 0.]\n"
     ]
    }
   ],
   "source": [
    "# define function\n",
    "def simulate(Cstar,T,W):\n",
    "    C_backwards = np.empty(T)\n",
    "    W_now = W\n",
    "    for t in range(T):\n",
    "        W_now = int(W_now)   # change the type to integreger 0,1,2,3 and so on\n",
    "        # Fill in.\n",
    "        C_backwards[t] = Cstar[W_now,t]\n",
    "        W_now = W_now-C_backwards[t]    \n",
    "    return C_backwards\n",
    "\n",
    "\n",
    "# 4. Simulate\n",
    "C_sim = simulate(C10,T,W)  # Call function\n",
    "        \n",
    "print('Solution for C with T =',T,'and W =', W , ': C =',C_sim)"
   ]
  },
  {
   "cell_type": "markdown",
   "metadata": {},
   "source": [
    "<h3> Play around with W, $\\beta$ and see the results. Are the results inline with your intuition?"
   ]
  }
 ],
 "metadata": {
  "kernelspec": {
   "display_name": "Python 3 (ipykernel)",
   "language": "python",
   "name": "python3"
  },
  "language_info": {
   "codemirror_mode": {
    "name": "ipython",
    "version": 3
   },
   "file_extension": ".py",
   "mimetype": "text/x-python",
   "name": "python",
   "nbconvert_exporter": "python",
   "pygments_lexer": "ipython3",
   "version": "3.8.12"
  }
 },
 "nbformat": 4,
 "nbformat_minor": 4
}
