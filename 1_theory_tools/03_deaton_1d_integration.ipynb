{
 "cells": [
  {
   "cell_type": "markdown",
   "metadata": {
    "slideshow": {
     "slide_type": "slide"
    }
   },
   "source": [
    "# Dynamic Programming and Structural Econometrics #3\n",
    "\n",
    "### Stochastic DP, 1-d Numerical Integration, Deaton's model\n",
    "\n",
    "**Readings:** \n",
    "- 📖 Judd, K. L. (1998). Numerical methods in economics. MIT press. Sections 7.1-7.5, 8.2\n",
    "- 📖 Angus Deaton: \"Saving and Liquidity constraints\" *Econometrica* 59.5 (1991): 1221-1248. ([link to paper](https://www.princeton.edu/~deaton/downloads/Saving_and_Liquidity_Constraints.pdf))\n",
    "- 📖 Jerome Adda and Russell Cooper “Dynamic Economics. Quantitative Methods and Applications.” Sections 3.2 and section 6.3.5.\n",
    "\n",
    "by Bertel Schjerning\n",
    "\n",
    "University of Copenhagen\n"
   ]
  },
  {
   "cell_type": "markdown",
   "metadata": {
    "slideshow": {
     "slide_type": "slide"
    }
   },
   "source": [
    "### This lecture\n",
    "1. Stochastic DP and choice under uncertainty $\\rightarrow$ need to solve integrals\n",
    "1. Numerical Integration: Quadrature methods and Monte Carlo (in 1d)\n",
    "1. Example: Consumption with stochastic income and liquidity constraints (Deaton's model)\n"
   ]
  },
  {
   "cell_type": "markdown",
   "metadata": {
    "slideshow": {
     "slide_type": "slide"
    }
   },
   "source": [
    "### The Bellman Equation for the general MDP framework\n",
    "- The bellman equation for the **infinite horizon**, $T = \\infty$ \n",
    "$$\n",
    "V(s)=  \\max_{d \\in D(s)} \\big[u(s, d) + \\beta \\int V(s')p(ds'|s, d)  \\big]\n",
    "$$ \n",
    "- The bellman equation for the **finite horizon**, $T < \\infty$ \n",
    "$$\n",
    "V_t(s_t)= \\max_{d_t \\in D(s_t)} \\big[u_t(s_t, d_t) + \\beta \\int V_{t+1}(s_{t+1})p(ds_{t+1}|s_t, d_t)  \\big]\n",
    "$$\n",
    "- So far we have only considered the cases of ether deterministic state transition or cases with shocks that has a finite number of support points.  \n",
    "- When agents make choices under uncertainty about future states $p(s_{t+1}|s_t, d_t)$ is not degenerate. \n",
    "- If the stochastic shocks to have continuous support, the integral does not turn in to a sum. \n",
    "- **Need to solve the integral** to obtain the expected future value conditional current states and choices"
   ]
  },
  {
   "cell_type": "markdown",
   "metadata": {
    "slideshow": {
     "slide_type": "slide"
    }
   },
   "source": [
    "### The integral\n",
    "$$\n",
    "E[V_{t+1}(s_{t+1})|s_t, d_t]=\\int V_{t+1}(s_{t+1})p(ds_{t+1}|s_t, d_t)\n",
    "$$\n",
    "- If $p(s_{t+1}|s_t, d_t)$ is discrete, the integral is replaced by a weighted sum which is trivial to compute, so we focus on the continuous case\n",
    "- For each value of $s_t$ and $d_t$ we need to compute the mean of function of a stochastic variable\n",
    "- Clearly we need to compute the mean of a function of a stochastic variable\n",
    "$$\n",
    "E[f(x)]=\\int f(x)g(x)dx\n",
    "$$\n",
    "where\n",
    "- $x$ is the next period state, $x=s_{t+1}$, \n",
    "- $f(x)$ is the value function $V_{t+1}(s_{t+1})$\n",
    "- $g(x)$ is the conditional transition density $p(s_{t+1}|s_t, d_t)$ "
   ]
  },
  {
   "cell_type": "markdown",
   "metadata": {
    "slideshow": {
     "slide_type": "slide"
    }
   },
   "source": [
    "### Numerical integration - Three standard methods:\n",
    "\n",
    "- **Discretization** \n",
    "    - Idea: divide the continuous support into intervals and integrate each part to obtain probabilities of falling into each interval\n",
    "    - If for example $p(s_{t+1}|s_t, d_t)$ follows a simple autoregressive process $s_{t+1}=\\rho s_{t} + \\epsilon_t$ we can discretize $s_t$ in $I$ points ${s_i}^{I}_{i=1}$ and use **Tauchen's method** to approximate $p(s_{t+1}|s_t, d_t)$ by a discrete Markov chain with a $I \\times I$ transition matrix $\\Pi$ with elements $\\pi_{i,j}=Prob(s_{t+1}=s_i|s_t=s_j, d_t)$\n",
    "\n",
    "\n",
    "- **Monte Carlo integration**\n",
    "    1. sample $N$ points $\\mathbf{x}_1,\\cdots,\\mathbf{x}_N$ from $g(\\mathbf{x})$ \n",
    "    1. approximate the mean $E[f(\\mathbf{x}])$ by the sample average\n",
    "$$\n",
    "E[f(\\mathbf{x}])\\approx Q_{N}\\equiv {\\frac  {1}{N}}\\sum _{{i=1}}^{N}f(\\mathbf  {x}_{i})\n",
    "$$\n",
    "\n",
    "- **Quadrature integration**\n",
    "    - Based on the non-random points and weights\n"
   ]
  },
  {
   "cell_type": "markdown",
   "metadata": {
    "slideshow": {
     "slide_type": "slide"
    }
   },
   "source": [
    "## Example: Expected utility of random consumption\n",
    "- Assume crra utility\n",
    "$$\n",
    "u(c)={\\begin{cases}{\\frac {c^{1-\\eta }-1}{1-\\eta }}&\\eta \\geq 0,\\eta \\neq 1\\\\\\ln(c)&\\eta =1\\end{cases}}\n",
    "$$\n",
    "\n",
    "- How to compute $E[u(x)])=\\int u(x)g(x)dx$ when $g(x)$ is density of lognormal, i.e.  $\\ln(x) \\sim N(\\mu, \\sigma)$\n",
    "\n",
    "- Let's first do Monte Carlo"
   ]
  },
  {
   "cell_type": "code",
   "execution_count": 1,
   "metadata": {},
   "outputs": [],
   "source": [
    "def u(c,η=1): # utility function\n",
    "    '''CRRA utility with parameter η, (η=0: linear, η=1: log, η>1: more risk averse than log)'''\n",
    "    if η==1:\n",
    "        return np.log(c)\n",
    "    elif η>=0:\n",
    "        return (c**(1-η) -1)/(1-η)\n",
    "    else: \n",
    "        RuntimeError('η must greater or equal to zero')"
   ]
  },
  {
   "cell_type": "markdown",
   "metadata": {
    "slideshow": {
     "slide_type": "-"
    }
   },
   "source": [
    "- How to compute $E[u(x)])$ when $\\ln(x) \\sim N(\\mu, \\sigma)$\n",
    "- Let's first do Monte Carlo"
   ]
  },
  {
   "cell_type": "markdown",
   "metadata": {
    "slideshow": {
     "slide_type": "slide"
    }
   },
   "source": [
    "### Compute $E[u(x)])$ when $\\ln(x) \\sim N(\\mu, \\sigma)$ using Monte Carlo\n"
   ]
  },
  {
   "cell_type": "code",
   "execution_count": 2,
   "metadata": {},
   "outputs": [
    {
     "name": "stdout",
     "output_type": "stream",
     "text": [
      "Estimate of E[u(x)]                   :  0.9967796501855978\n",
      "Standard error of estimate of E[(u,x)]:  0.03203874466115051\n"
     ]
    }
   ],
   "source": [
    "import numpy as np\n",
    "n=1000        # Number of Monte Carlo samples\n",
    "η=1;          # CRRA utility parameter\n",
    "μ=1; σ=1;     # Location and scale parameters for ln(x)~ N(μ, σ)$\n",
    "\n",
    "x = np.random.lognormal(μ, σ, n)\n",
    "fx=u(x, η)\n",
    "Qn = np.mean(fx)\n",
    "se_Qn=np.std(fx)/np.sqrt(n)\n",
    "print('Estimate of E[u(x)]                   : ', Qn)\n",
    "print('Standard error of estimate of E[(u,x)]: ', se_Qn)"
   ]
  },
  {
   "cell_type": "markdown",
   "metadata": {
    "slideshow": {
     "slide_type": "slide"
    }
   },
   "source": [
    "### Newton-Cotes quadrature formulas\n",
    "\n",
    "Goal: definite integral $ \\int_a^b f(x) dx $\n",
    "\n",
    "Idea: Approximate the function with low order polynomial, then integrate\n",
    "approximation\n",
    "\n",
    "1. First order >> Step function approximation  \n",
    "  - Constant, level at midpoint of $ [a,b] $  \n",
    "1. Second order >> Linear approximation  \n",
    "  - Trapezoid rule  \n",
    "1. Third order >> Quadratic approximation  \n",
    "  - Simpson rule  "
   ]
  },
  {
   "cell_type": "markdown",
   "metadata": {
    "slideshow": {
     "slide_type": "slide"
    }
   },
   "source": [
    "### Composite Newton-Cotes\n",
    "\n",
    "Preform Newton-Cotes on a grid separately on each interval\n",
    "\n",
    "- Equally spaced points  \n",
    "- Newton-Cotes on each sub-interval  \n",
    "\n",
    "\n",
    "*Note that the points are placed exogenously*"
   ]
  },
  {
   "cell_type": "markdown",
   "metadata": {
    "slideshow": {
     "slide_type": "slide"
    }
   },
   "source": [
    "### Gaussian quadrature\n",
    "\n",
    "General formula\n",
    "\n",
    "$$\n",
    "\\int_a^b f(x)w(x) dx = \\sum_{i=1}^n \\omega_i f(x_i) + \\text{approximation error}\n",
    "$$\n",
    "\n",
    "- $w(x)$ non-negative weighting function\n",
    "- $ x_i \\in [a,b] $ quadrature nodes  \n",
    "- $ \\omega_i $ quadrature weights\n",
    "- Nodes and weights are chosen so that there is no approximation error if $f(x)$ belongs to the family of $2n-1$ degree polynomials\n",
    "- Choice of method differ by weighting function $w(x)$ and domain $[a, b]$"
   ]
  },
  {
   "cell_type": "markdown",
   "metadata": {
    "slideshow": {
     "slide_type": "slide"
    }
   },
   "source": [
    "### Gaussian quadrature\n",
    "$$\n",
    "\\int_a^b f(x)w(x) dx = \\sum_{i=1}^n \\omega_i f(x_i) + \\text{approximation error}\n",
    "$$\n",
    "\n",
    "1. Gauss-Legendre Quadrature ($w(x)=1$, domain $[a, b]$)\n",
    "1. Gauss-Hermite Quadrature ($w(x)=\\exp(−𝑥^2)$, domain  $[-\\infty, \\infty]$)\n",
    "1. Gauss-Chebyshev Quadrature ($w(x)=(1-x^2)^{(-1/2)} $, domain  $[a, b]$)\n",
    "1. Gauss-Laguerre Quadrature ($w(x)=\\exp(−𝑥)$, domain  $[a, \\infty]$)\n",
    "\n",
    "We will look at **Gauss-Legendre** and **Gauss-Hermite**\n"
   ]
  },
  {
   "cell_type": "markdown",
   "metadata": {
    "slideshow": {
     "slide_type": "slide"
    }
   },
   "source": [
    "### Weights and nodes"
   ]
  },
  {
   "cell_type": "code",
   "execution_count": 3,
   "metadata": {
    "slideshow": {
     "slide_type": "-"
    }
   },
   "outputs": [
    {
     "data": {
      "image/png": "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\n",
      "text/plain": [
       "<Figure size 1584x288 with 4 Axes>"
      ]
     },
     "metadata": {
      "needs_background": "light"
     },
     "output_type": "display_data"
    }
   ],
   "source": [
    "import numpy as np\n",
    "import matplotlib.pyplot as plt\n",
    "n=10 # number of nodes\n",
    "quad_methods= [np.polynomial.legendre.leggauss, np.polynomial.hermite.hermgauss,  \n",
    "              np.polynomial.chebyshev.chebgauss, np.polynomial.laguerre.laggauss]\n",
    "label= [\"Gauss-Legendre $[-1,1]$\", \"Gauss-Hermite  $[-\\infty,\\infty]$\",  \n",
    "        \"Gauss-Chebyshev $[-1,1]$\", \"Gauss-Laguerre $[0,\\infty]$\"]\n",
    "fig, axs = plt.subplots(1, len(label), figsize=(22,4))\n",
    "for i, method in enumerate(quad_methods): \n",
    "    x, w = quad_methods[i](n)\n",
    "    axs[i].scatter(x, w)\n",
    "    axs[i].set_title(label[i], fontsize=18)\n",
    "plt.show()"
   ]
  },
  {
   "cell_type": "markdown",
   "metadata": {
    "slideshow": {
     "slide_type": "slide"
    }
   },
   "source": [
    "### Gauss-Legendre Quadrature\n",
    "\n",
    "- Domain $ [-1,1]$ .. or   $[a,b]$\n",
    "- Weighting $ 1 $  \n",
    "\n",
    "\n",
    "$$\n",
    "\\int_{-1}^1 f(x) dx = \\sum_{i=1}^{n} \\omega_i f(x_i) + \\frac{2^{2n+1}(n!)^4}{(2n+1)!(2n)!}\\frac{f^{(2n)}(\\xi)}{(2n)!}\n",
    "$$\n",
    "\n",
    "\n",
    "\n",
    "\n",
    "\n",
    "- Nodes and weights come from Legendre polynomials \n",
    "- Good for computing integrals discounted sum of utility over finite horizons or expectation of random variables with finite support.\n",
    "- Can be used if transforming expectation using inverse CDF (has domain [0,1]]\n",
    "- The method of choice when no obvious weighting function can be used"
   ]
  },
  {
   "cell_type": "code",
   "execution_count": 4,
   "metadata": {
    "scrolled": true,
    "slideshow": {
     "slide_type": "slide"
    }
   },
   "outputs": [
    {
     "name": "stdout",
     "output_type": "stream",
     "text": [
      "n= 0 z= 2.0\n",
      "n= 1 z= 0.3333333333333333\n",
      "n= 2 z= 0.007407407407407408\n",
      "n= 3 z= 6.349206349206349e-05\n",
      "n= 4 z= 2.879458661771587e-07\n",
      "n= 5 z= 8.079289174443286e-10\n",
      "n= 6 z= 1.5408688826020251e-12\n",
      "n= 7 z= 2.1274323822907644e-15\n",
      "n= 8 z= 2.2247658899772702e-18\n",
      "n= 9 z= 1.8232464951552934e-21\n",
      "n= 10 z= 1.202510549502238e-24\n",
      "n= 11 z= 6.5205639576676615e-28\n",
      "n= 12 z= 2.958289886276444e-31\n",
      "n= 13 z= 1.1394894376768524e-34\n",
      "n= 14 z= 3.772965358184555e-38\n",
      "n= 15 z= 1.085391438241117e-41\n",
      "n= 16 z= 2.738035350149445e-45\n",
      "n= 17 z= 6.106073849211671e-49\n",
      "n= 18 z= 1.2124581278081642e-52\n",
      "n= 19 z= 2.1573583963921932e-56\n"
     ]
    }
   ],
   "source": [
    "# compute factor proportional to f(2n){\\xi} appearing in error\n",
    "import math\n",
    "for n in range(20):\n",
    "    z=(   (2**(2*n+1))*(math.factorial(n)**4) ) /(math.factorial(2*n+1) * math.factorial(2*n)**2)\n",
    "    print('n=', n,  'z=', z)"
   ]
  },
  {
   "cell_type": "markdown",
   "metadata": {
    "slideshow": {
     "slide_type": "slide"
    }
   },
   "source": [
    "### Change of variable for Gauss-Legendre\n",
    "A linear change of variable is necessary to apply Gauss-Legendre quadrature to general intervals $[a, b]$ rather than $[−1, 1]$ \n",
    "\n",
    "This change of interval from $[a, b]$ to $[−1, 1]$ can be done in the following way:\n",
    "\n",
    "$$\n",
    "{\\displaystyle \\int _{a}^{b}f(x)\\,dx={\\frac {b-a}{2}}\\int _{-1}^{1}\n",
    "f\\left({\\frac {(x+1)(b-a)}{2} +a }\\right)\\,dx .}\n",
    "$$\n",
    "\n",
    "Applying n point Gaussian quadrature ${\\displaystyle (x ,w)}$ rule then results in the following approximation:\n",
    "\n",
    "$$\n",
    "\\int _{a}^{b}f(x)\\,dx\n",
    "\\approx {\\frac {b-a}{2}}\\sum _{i=1}^{n}w_{i}\n",
    "f\\left({\\frac {(x_i+1)(b-a)}{2} +a }\\right)\\,dx \n",
    "$$"
   ]
  },
  {
   "cell_type": "markdown",
   "metadata": {
    "slideshow": {
     "slide_type": "slide"
    }
   },
   "source": [
    "### Simple example\n",
    "- Approximate $\\int_{a}^b x^{m} dx$ using Gauss-Legendre\n",
    "- How well does a $n$ point Gauss-Legendre approximate integrals of polynomials of degree $2n-1$?"
   ]
  },
  {
   "cell_type": "code",
   "execution_count": 5,
   "metadata": {
    "slideshow": {
     "slide_type": "-"
    }
   },
   "outputs": [
    {
     "name": "stdout",
     "output_type": "stream",
     "text": [
      "Exact solution, F(b)-F(a):  102.30000000000001\n",
      "Gauss-Legendre           :  102.30000000000004\n"
     ]
    }
   ],
   "source": [
    "from matplotlib import pyplot\n",
    "def quad_leg(f, a=-1, b=1, n=10):\n",
    "    x, w = np.polynomial.legendre.leggauss(n)\n",
    "    Q=np.sum(w * (b-a)/2*f( (x+1)*(b-a)/2+a ) )\n",
    "    return Q\n",
    "\n",
    "# Example:\n",
    "n=5; # number of quadrture nodes\n",
    "m=9; # degree of polynomial\n",
    "a=-1; b=2; # integration bounds\n",
    "def f(x): return x**m   # function to integrate\n",
    "def F(x): return 1/(m+1)*x**(m+1) # antiderivative of f\n",
    "Q= quad_leg(f, a, b, n)\n",
    "print('Exact solution, F(b)-F(a): ', F(b)-F(a))\n",
    "print('Gauss-Legendre           : ', Q.round(16))\n"
   ]
  },
  {
   "cell_type": "markdown",
   "metadata": {
    "slideshow": {
     "slide_type": "slide"
    }
   },
   "source": [
    "### Gauss-Legendre for expectations functions of random variables\n",
    "- Can we make a change of variable so that we can compute the expectation functions of random variables with a general support?\n",
    "$$\n",
    "\\mathbb{E}_{y} [f(y)] = \\int_{\\Omega} f(y)g(y)dy\n",
    "$$\n",
    "- Yes, if we know the inverse cdf for $y$, we can make the change of variable $y=G^{-1}(z)$ with $z = G(y) \\in [0,1]$ \n",
    "- So $ dz = G'(y) dy = g(y) dy $, where $ G(y) $ and $ g(y) $ are cdf and pdf. \n",
    "\n",
    "\n",
    "$$\n",
    "\\mathbb{E}_{y} [f(y)] =\\int_0^1 f\\big(G^{-1}(z)\\big) dz\n",
    "$$\n",
    "\n",
    "- Applying $n$ point Gauss-legendre quadrature for the interval $[a, b]=[0,1]$ with legendre nodes and weights $(x ,w)$  we obtain\n",
    "\n",
    "$$\n",
    "E[f(y)]={\\frac {1}{2}}\\int _{0}^{1}\n",
    "f\\left({\\frac {G^{-1}(x)+1}{2}}\\right)\\,dx\n",
    "\\approx \n",
    "\\sum _{i=1}^{n}{\\frac {w_{i}}{2}}\n",
    "f\\left({\\frac {G^{-1}(x_i)+1}{2}}\\right)\n",
    "$$\n"
   ]
  },
  {
   "cell_type": "markdown",
   "metadata": {
    "slideshow": {
     "slide_type": "slide"
    }
   },
   "source": [
    "### Gauss-Hermite Quadrature\n",
    "\n",
    "- Domain $ [-\\infty,\\infty] $  \n",
    "- Weighting $ \\exp(-x^2) $  \n",
    "\n",
    "\n",
    "$$\n",
    "\\int_{-\\infty}^\\infty f(x) \\exp(-x^2)dx = \\sum_{i=1}^{n} \\omega_i f(x_i) + \\frac{n!\\sqrt{\\pi}}{2^n}\\frac{f^{(2n)}(\\xi)}{(2n)!}\n",
    "$$\n",
    "\n",
    "- Nodes and weights come from Hermite polynomials\n",
    "- Good for computing expectation with Normal distribution \n",
    "$$\n",
    "E[f(y)]\n",
    "=(2\\pi\\sigma^2)^{-1/2}\\int_{-\\infty}^{\\infty} f(y)e^{-(y-\\mu)^2/(2\\sigma^2)}dy\n",
    "$$\n",
    "\n",
    "since normal density is proportional to $\\exp(-x^2)$ after after appropriate change of variable $x=(y-\\mu)/(\\sqrt{2}\\sigma)$ so that $y=\\sqrt{2}\\sigma x+ \\mu$ and $dy=\\sqrt{2}\\sigma dx$\n",
    "$$\n",
    "E[f(y)]\n",
    "=\\pi^{-1/2}\\int_{-\\infty}^{\\infty} f(\\sqrt{2}\\sigma x+ \\mu)e^{-x^2}dx\\approx \\pi^{-1/2}\\sum_{i=1}^{n} \\omega_i f(\\sqrt{2}\\sigma x_i+ \\mu)\n",
    "$$\n",
    "\n"
   ]
  },
  {
   "cell_type": "code",
   "execution_count": 6,
   "metadata": {
    "slideshow": {
     "slide_type": "slide"
    }
   },
   "outputs": [],
   "source": [
    "# Quadrature rule for E[f(y)], where x~N(μ,σ)\n",
    "def quad_herm_norm(f, μ=0, σ=1, n=10): \n",
    "    x, w = np.polynomial.hermite.hermgauss(n)\n",
    "    y=μ+np.sqrt(2)*σ*x\n",
    "    Q=np.sum(f(y)*w)/np.sqrt(np.pi)\n",
    "    return Q"
   ]
  },
  {
   "cell_type": "code",
   "execution_count": 7,
   "metadata": {
    "slideshow": {
     "slide_type": "slide"
    }
   },
   "outputs": [
    {
     "name": "stdout",
     "output_type": "stream",
     "text": [
      "E(exp(x))         1.648721270700128\n",
      "Legendre:         1.613759229099458          Error  -0.034962041600670\n",
      "Hermite           1.648721270698232          Error  -0.000000000001896\n",
      "\n",
      "E(x)              0.000000000000000\n",
      "Legendre:         0.000000000000000          Error   0.000000000000000\n",
      "Hermite          -0.000000000000000          Error  -0.000000000000000\n",
      "\n",
      "Var(x)            1.000000000000000\n",
      "Legendre:         0.978972996383541          Error  -0.021027003616459\n",
      "Hermite           1.000000000000001          Error   0.000000000000001\n",
      "\n",
      "Skew(x)           0.000000000000000\n",
      "Legendre:         0.000000000000000          Error   0.000000000000000\n",
      "Hermite           0.000000000000000          Error   0.000000000000000\n",
      "\n",
      "Kurtosis(x)       3.000000000000000\n",
      "Legendre:         2.622514249699726          Error  -0.377485750300274\n",
      "Hermite           3.000000000000003          Error   0.000000000000003\n",
      "\n"
     ]
    }
   ],
   "source": [
    "# Example: moments of normal varible,  x ~ N(μ,σ^2) and mean of log normal, y=exp(x)\n",
    "import scipy.stats\n",
    "μ=0; σ=1;    # parameters of log normal distribution\n",
    "label=['E(exp(x))','E(x)', 'Var(x)', 'Skew(x)', 'Kurtosis(x)']\n",
    "f=[lambda x:np.exp(x),lambda x:x, lambda x:x**2, lambda x:x**3, lambda x:x**4]; \n",
    "true_val=[np.exp(μ+ (σ**2)/2), μ, σ**2, 0, 3*σ**4]\n",
    "Ginv = lambda x:  scipy.stats.norm.ppf(x, loc=μ, scale =σ)  # inverse cdf of normal\n",
    "n=10 # number of quadrature nodes\n",
    "for i, fi in enumerate(f):\n",
    "    Q_leg=quad_leg(f= lambda x: fi(Ginv(x)),a=0,b=1,n=n)\n",
    "    Q_herm=quad_herm_norm(fi, μ, σ, n) \n",
    "    print('%-15s%20.15f'   % (label[i], true_val[i]));\n",
    "    print('%-15s%20.15f%15s%20.15f'   % ('Legendre: ', Q_leg , 'Error', (Q_leg- true_val[i])))\n",
    "    print('%-15s%20.15f%15s%20.15f\\n' % ('Hermite ', Q_herm, 'Error' ,(Q_herm- true_val[i])))"
   ]
  },
  {
   "cell_type": "markdown",
   "metadata": {
    "slideshow": {
     "slide_type": "slide"
    }
   },
   "source": [
    "### Let's compare $E[u(x; \\eta)])$ for $\\ln(x) \\sim N(\\mu, \\sigma)$ for Legendre and  Hermite\n"
   ]
  },
  {
   "cell_type": "code",
   "execution_count": 8,
   "metadata": {
    "slideshow": {
     "slide_type": "-"
    }
   },
   "outputs": [
    {
     "name": "stdout",
     "output_type": "stream",
     "text": [
      "Gauss-Legendre approx of E[u(y,η=0)]   0.613759229099458\n",
      "Gauss-Hermite  approx of E[u(y,η=0)]   0.648721270698232\n",
      "\n",
      "Gauss-Legendre approx of E[u(y,η=1)]   0.000000000000000\n",
      "Gauss-Hermite  approx of E[u(y,η=1)]  -0.000000000000000\n",
      "\n",
      "Gauss-Legendre approx of E[u(y,η=2)]  -0.613759229099458\n",
      "Gauss-Hermite  approx of E[u(y,η=2)]  -0.648721270698232\n",
      "\n"
     ]
    }
   ],
   "source": [
    "# Example: mean utility of log normal varible, E(u(exp(y))), y ~ N(μ,σ^2)\n",
    "import scipy.stats\n",
    "μ=0; σ=1;    # parameters of log normal distribution\n",
    "\n",
    "n=10   # number of nodes and weigthts\n",
    "Ginv = lambda x:  scipy.stats.norm.ppf(x, loc=μ, scale =σ)  # inverse cdf of normal\n",
    "for η in [0,1,2]:  # utility parameter (η=0: linear, η=1: log, η>1: more risk averse than log)\n",
    "    Q_leg=quad_leg(lambda x: u(np.exp(Ginv(x)), η),a=0,b=1,n=n)\n",
    "    Q_herm=quad_herm_norm(lambda x: u(np.exp(x), η), μ, σ, n) \n",
    "    print('%-15s%20.15f'   % ('Gauss-Legendre approx of E[u(y,η=%d)]', Q_leg) % η)\n",
    "    print('%-15s%20.15f\\n'   % ('Gauss-Hermite  approx of E[u(y,η=%d)]', Q_herm) % η)"
   ]
  },
  {
   "cell_type": "markdown",
   "metadata": {
    "slideshow": {
     "slide_type": "slide"
    }
   },
   "source": [
    "### Example: Consumption-savings problems\n",
    "📖  Deaton, Angus (1991): \"Saving and Liquidity constraints\" *Econometrica*, 1221-1248. ([link to paper](https://www.princeton.edu/~deaton/downloads/Saving_and_Liquidity_Constraints.pdf))\n",
    "\n",
    "📖 Phelps, E. S. (1962). The accumulation of risky capital: A sequential utility analysis. *Econometrica*, 729-743. ([link to paper](https://www.jstor.org/stable/1909322f))\n",
    "\n",
    "- Discount factor $ \\beta=1+\\delta$, where $\\delta$ is the subjective discount rate \n",
    "- Time separable utility of consumption $v(c_t)$ of consumption during the period $ t $, $c_t \\ge 0$\n",
    "- Evolution of assets, $A_{t+1}=R_t(A_t-c_t+y_t)$\n",
    "- Gross return on savings $ R_t $, *can be stochastic* and revealed after consumption decision is made \n",
    "- Constant income $ y_t \\ge 0 $, *can be stochastic*.\n",
    "- Single state \"Cash on hand\" in the beginning of the period  $t$, $x_t=A_t+y_t$\n",
    "- Implied state transition is $x_{t+1}=R_t(x_t-c_t) + y_{t+1}$\n",
    "- A constraints on borrowing $A_t=x_t-c_t \\ge 0$ and consumption $c_t \\ge 0$ implies that $\\rightarrow c_t \\in [0, x_t]$  \n",
    " \n",
    "\n",
    "- Special cases\n",
    "    - When $R=1$ and $y=0 $ we have the (deterministic) cake eating problem.\n",
    "    - When $R=1$ and $y $ has discrete support we have the stochastic cake eating problem.\n",
    "    - When y is deterministic we have Phelps's model (ECMA, 1962)\n",
    "    - When R is deterministic we have Deaton's model (ECMA, 1991)"
   ]
  },
  {
   "cell_type": "markdown",
   "metadata": {
    "slideshow": {
     "slide_type": "slide"
    }
   },
   "source": [
    "### States, decisions and preferences, and transitions in the MDP framework\n",
    "- Recall our the general framework for the finite horizon problem\n",
    "$$\n",
    "V_t(W_t)=\\max_{d_t \\in D(s_t)} \\big[u_t(s_t, d_t) + \\beta \\int V_{t+1}(s_{t+1})p(ds_{t+1}|s_t, d_t)  \\big]\n",
    "$$\n",
    "\n",
    "- **States:**  Single state, cash on hand $s_t = x_t$. \n",
    "- **Choices:**  Single choice variable $d_t=c_t$ and state dependent choice set $c_t\\in D(x_t)=[0,x_t]$\n",
    "- **Payoffs:** Utility flow only depend on current cake consumption, $u_t(s_t, d_t)=u_t(x_t, c_t)=u(c_t)$\n",
    "- **State transition** $p(s_{t+1}|s_t, d_t) =p(x_{t+1}|x_t, c_t)$ depends on distribution of $y_t$ and $R_t$\n",
    "    - Transition equation $x_{t+1}=R_t(x_t-c_t) + y_{t+1}$\n",
    "    - Like Deaton we assume $R_t=(1+r)$ to be fixed\n",
    "    - We assume $y_t$ has density $g(y_t)$ and is exogenous (does not depend on $x_t$ and $c_t$)"
   ]
  },
  {
   "cell_type": "markdown",
   "metadata": {
    "slideshow": {
     "slide_type": "slide"
    }
   },
   "source": [
    "### Bellman equation for the stochastic problem \n",
    "- Given our specification of states, choices, preferences and beleifs on the previous slide, the Bellman equation for our stochastic cake eating model becomes\n",
    "\n",
    "\\begin{eqnarray}\n",
    "V_t(x_t)&=&\\max_{c_t \\in [0,x_t]} \\big[u(c_t) + \\beta \\int V_{t+1}(x_{t+1})p(dx_{t+1}|x_t, c_t)  \\big] \\\\\n",
    "&=&\\max_{c_t \\in [0,x_t]} \\big[u(c_t) + \\beta \\int V_{t+1}(R_t(x_t-c_t) + y_{t+1})g(y_{t+1})dy_{t+1}  \\big]\n",
    "\\end{eqnarray}\n",
    "\n",
    "- For the infinite horizon problem the Bellman equation is defined by the Bellman operator $\\Gamma$\n",
    "$$\n",
    "\\Gamma(V)(x)=\\max_{c_t \\in [0,x_t]} \\big[u(c_t) + \\beta \\int V(\\underbrace{R(x-c) + y'}_{x'(y')})g(y')dy'  \\big]\n",
    "$$\n",
    "and the value function is the unique fixed point $V =\\Gamma(V)$\n",
    "\n",
    "\n",
    "- We let stochastic income $y_t$ be log normal with parameters $\\mu$ and $\\sigma$, i.e. $\\ln(y_t)\\sim N(\\mu, \\sigma^2)$ \n",
    "- Inverse CDF:  $G^{-1}(p)=\\exp(\\mu + \\sigma\\Phi^{-1}(p))$\n",
    "- Income has positive support $y_t > 0 $ and $ \\mathbb{E}(y_t) = \\exp(\\mu + \\sigma^2/2))$  \n",
    "- For backward compatibility with cake eating problem we add $ y=0 $ special case\n",
    "\n"
   ]
  },
  {
   "cell_type": "markdown",
   "metadata": {
    "slideshow": {
     "slide_type": "slide"
    }
   },
   "source": [
    "### Solving stochastic consumption-savings model\n",
    "\n",
    "VFI solution method will still work\n",
    "\n",
    "1. Discretize state space and set the initial values for $ V_0(x) $ at state grid  \n",
    "1. Evaluate Bellman operator to compute $ V_n(x) $ from $ V_{n-1}(x) $, and simultaneously compute the optimal decisions (policy) $ c_n(x) $ at state grid  \n",
    "1. Check for convergence in value function space, repeat the last step if not yet converged\n",
    "\n",
    "\n",
    "**But now need to compute the expectation when calculating the maximand in the Bellman equation**\n",
    "\n",
    "Quadrature!"
   ]
  },
  {
   "cell_type": "markdown",
   "metadata": {
    "jp-MarkdownHeadingCollapsed": true,
    "slideshow": {
     "slide_type": "slide"
    },
    "tags": []
   },
   "source": [
    "### Details on Gauss-Legendre quadrature calculation\n",
    "- We have \n",
    "$$\n",
    "\\mathbb{E}_{x'|x,c}[V(x')]= \\int_{-\\infty}^{\\infty}  V\\left(R(x-c) + y'\\right)g(y')dy' =\\int_0^1 V\\left(R(x-c) + G^{-1}(z')\\right) dz'\n",
    "\\\\ =\\int_0^1 V\\left(R(x-c) + \\exp(\\mu+ \\sigma\\Phi^{-1}(z')\\right) dz' $$\n",
    "where we have used the inverse CDF of $G^{-1}(z)= \\exp(\\mu+ \\sigma\\Phi^{-1}(z))$ to map uniform random variables $z$ in to log normal variables $y=G^{-1}(z)$\n",
    "\n",
    "- This integral can easily solve using Gauss-Legendre for the interval $[a,b]=[0,1]$ \n",
    "$$\n",
    "\\mathbb{E}_{x'|x,c}[V(x')]\n",
    "\\approx \\sum_i \\frac{w_i}{2} V\\left(R(x-c) + \\exp\\left(\\mu+ \\sigma\\Phi^{-1}\\left((q_i+1)/2\\right)\\right)\\right)\n",
    "$$\n",
    "where $\\{q_i,w_i\\}$ are Gauss-Legendre quadrature notes and weights for the interval $[-1,1]$\n",
    "\n",
    "- Gauss-Hermite would be more effective in this case. \n",
    "    - This is a good exercise for you!\n",
    "    - Hint: Make the change of variable $y=\\exp(z)$ so that you need to take the integral over a normally distributed variable, $z$"
   ]
  },
  {
   "cell_type": "markdown",
   "metadata": {
    "slideshow": {
     "slide_type": "slide"
    }
   },
   "source": [
    "### Model class: deaton"
   ]
  },
  {
   "cell_type": "code",
   "execution_count": 110,
   "metadata": {
    "slideshow": {
     "slide_type": "-"
    }
   },
   "outputs": [],
   "source": [
    "import numpy as np\n",
    "from scipy import interpolate # Interpolation routines\n",
    "class deaton():\n",
    "    '''Class to implement deaton's model with log-normally distrubuted income shocks'''\n",
    "    def __init__(self,β=.9, R=1, μ=0, σ=1, η=1, xbar=[0, 10], n_x=50, n_c=100, n_y=10):\n",
    "        '''Initializer'''\n",
    "        # structural parameters\n",
    "        self.β  = β       # Discount factor\n",
    "        self.R  = R      # Returns on savings\n",
    "        self.μ  = μ       # Location parameter for income shock, y (if y is log normal, ln(y) ~ N(μ, σ^2))  \n",
    "        self.σ  = σ       # Scale parameter for income shock, y\n",
    "        self.η  = η       # CRRA utility parameter, (η=0: linear, η=1: log, η>1: more risk averse than log\n",
    "        \n",
    "        # spapces\n",
    "        self.xbar = xbar  # Upper and lower bound on cash on hand\n",
    "        self.n_x = n_x    # Number of grid points for cash on hand\n",
    "        self.n_c = n_c    # Number of grid points for choice grid\n",
    "        self.n_y = n_y    # Number of quadrature points for income\n",
    "\n",
    "        # quadrture grids for y (adjusted weights and nodes)\n",
    "        q, w = np.polynomial.legendre.leggauss(n_y) # legendre quadrture nodes and weights on [-1,1]\n",
    "        Ginv = lambda z:  np.exp(scipy.stats.norm.ppf(z, loc=self.μ, scale =self.σ))  # inverse cdf of log-normal\n",
    "        self.weights=w/2; # change of varibale to adjust to [0,1] interval\n",
    "        self.y = Ginv((q+1)/2) # use change of varibale to adjust nodes to [0,1] interval and use Ginv to obntain y\n",
    "        \n",
    "        # grids for x and c (adjusted to satisfy constraints)\n",
    "        self.xbar[0] = np.maximum(np.finfo(float).eps, self.xbar[0]);  # truncate lower bound at smallest positive float number\n",
    "        self.x = np.linspace(self.xbar[0],self.xbar[1],n_x).reshape((n_x,1)) # grid for state space (n_w x1 array)\n",
    "        self.c = np.empty((n_x,n_c)) # initilize grid for choices for each staty point \n",
    "        for i in range(n_x): \n",
    "            # make grid between that satisfies the constraint, c \\in [0,x[i]] \n",
    "            self.c[i,:] = np.linspace(self.xbar[0],self.x[i],n_c).reshape((1,n_c)) \n",
    "    \n",
    "    def u(self,c): # utility function\n",
    "        '''Utility function, crra'''\n",
    "        if self.η==1:\n",
    "            return np.log(c)\n",
    "        elif self.η>=0:\n",
    "            return (c**(1-self.η) -1)/(1-self.η)\n",
    "    \n",
    "    def bellman(self,V0):\n",
    "        '''Bellman operator, V0 is one-dim vector of values on state grid'''\n",
    "        interp = interpolate.interp1d(self.x[:,0],V0,  bounds_error=False,fill_value='extrapolate')\n",
    "        EV=0 \n",
    "        for i, y_i in enumerate(self.y): # compte expectation wrt to shocks to future state\n",
    "            x1=self.R*(self.x-self.c) + y_i # next period x, conditional of w and c, shock, nW x nC\n",
    "            EV+=self.weights[i]*interp(x1);\n",
    "        matV1 = self.u(self.c) + self.β * EV        \n",
    "        i_max= np.argmax(matV1,axis=1); # (column) idex of optimal choices\n",
    "        V1 = matV1[np.arange(self.n_x),i_max]  \n",
    "        c1 = self.c[np.arange(self.n_x),i_max] \n",
    "        return V1, c1\n"
   ]
  },
  {
   "cell_type": "markdown",
   "metadata": {
    "slideshow": {
     "slide_type": "slide"
    }
   },
   "source": [
    "### Model class: Solver (VFI and backward induction)"
   ]
  },
  {
   "cell_type": "code",
   "execution_count": 103,
   "metadata": {
    "slideshow": {
     "slide_type": "-"
    }
   },
   "outputs": [],
   "source": [
    "from scipy import interpolate # Interpolation routines\n",
    "from time import process_time\n",
    "class dpsolver():\n",
    "    '''Class to implement deaton's model with log-normally distrubuted income shocks'''\n",
    "    def vfi_T(model, T=100, callback=None):\n",
    "        '''Solves the model using backward induction (VFI with maxiter =T'''\n",
    "        tic = process_time() # Start the stopwatch / counter\n",
    "        V=np.zeros((model.n_x, T+1)) # on first iteration assume consuming everything\n",
    "        c=np.zeros((model.n_x, T+1)) # on first iteration assume consuming everything\n",
    "        for t in range(T-1, 0, -1):\n",
    "            V[:,t-1],c[:,t-1]=model.bellman(V[:,t])\n",
    "            if callback: callback(t,model.x,V, c) # callback for making plots and plotting iterations\n",
    "        else:  # when i went up to maxiter\n",
    "            toc = process_time() # Stop the stopwatch / counter\n",
    "            print(model, 'solved by backward induction using',round(toc-tic, 5), 'seconds')\n",
    "        return V,c\n",
    "    \n",
    "    def vfi(model, maxiter=100, tol=1e-6,callback=None):\n",
    "        '''Solves the model using VFI (successive approximations)'''\n",
    "        tic = process_time() # Start the stopwatch / counter\n",
    "        V0=np.zeros(model.n_x) # on first iteration assume consuming everything\n",
    "        for iter in range(maxiter):\n",
    "            V1,c1=model.bellman(V0)\n",
    "            if callback: callback(iter,model.x,V1, c1, V0) # callback for making plots\n",
    "            if np.max(abs(V1-V0)) < tol:\n",
    "                toc = process_time() # Stop the stopwatch / counter\n",
    "                print(model, 'solved by VFI in', iter, 'iterations using',round(toc-tic, 5), 'seconds')\n",
    "                break\n",
    "            V0=V1\n",
    "        else:  # when i went up to maxiter\n",
    "            print('No convergence: maximum number of iterations achieved!')\n",
    "        return V1,c1\n",
    "    \n",
    "    def iterinfo(iter,model,V1,V0, c=None):\n",
    "        print('iter=', iter, '||V1-V0||', np.max(abs(V1-V0)))\n",
    "    \n"
   ]
  },
  {
   "cell_type": "markdown",
   "metadata": {
    "slideshow": {
     "slide_type": "slide"
    }
   },
   "source": [
    "### Routine for plotting value and policy functions"
   ]
  },
  {
   "cell_type": "code",
   "execution_count": 104,
   "metadata": {
    "slideshow": {
     "slide_type": "-"
    }
   },
   "outputs": [],
   "source": [
    "# function for plotting\n",
    "import matplotlib.pyplot as plt\n",
    "def v_c_plot(x, V, c):\n",
    "    '''Illustrate solution'''\n",
    "    fig1, (ax1,ax2) = plt.subplots(1,2,figsize=(14,8))\n",
    "    ax1.grid(b=True, which='both', color='0.65', linestyle='-')\n",
    "    ax2.grid(b=True, which='both', color='0.65', linestyle='-')\n",
    "    ax1.set_title('Value function')\n",
    "    ax2.set_title('Policy function')\n",
    "    ax1.set_xlabel('Cash on hand, x')\n",
    "    ax2.set_xlabel('Cash on hand, x')\n",
    "    ax1.set_ylabel('Value function')\n",
    "    ax2.set_ylabel('Policy function')\n",
    "    if len(V.shape)==1: \n",
    "        V=V[:,np.newaxis]\n",
    "        c=c[:,np.newaxis]\n",
    "    for i in range(V.shape[1]):\n",
    "        ax1.plot(x[1:],V[1:,i],color='k',alpha=0.25)\n",
    "        ax2.plot(x[1:],c[1:,i],color='k',alpha=0.25)\n",
    "    # add solutions\n",
    "    ax1.plot(x[1:],V[1:,0],color='r',linewidth=2.5)\n",
    "    ax2.plot(x[1:],c[1:,0],color='r',linewidth=2.5)\n",
    "    plt.show()"
   ]
  },
  {
   "cell_type": "markdown",
   "metadata": {
    "slideshow": {
     "slide_type": "slide"
    }
   },
   "source": [
    "### Let's solve Deaton's model: Counter clockwise \"concavity-cation\" of the consumption function"
   ]
  },
  {
   "cell_type": "code",
   "execution_count": 105,
   "metadata": {},
   "outputs": [
    {
     "name": "stdout",
     "output_type": "stream",
     "text": [
      "<__main__.deaton object at 0x7fec8defc5e0> solved by backward induction using 0.34667 seconds\n")
     ]
    },
    {
     "data": {
      "image/png": "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\n",
      "text/plain": [
       "<Figure size 1008x576 with 2 Axes>"
      ]
     },
     "metadata": {
      "needs_background": "light"
     },
     "output_type": "display_data"
    }
   ],
   "source": [
    "# default inputs  for deaton: β=.9, R=1, μ=0, σ=1, η=1, xbar=[0, 10], n_x=50, n_c=100, n_y=10\n",
    "m1=deaton(β=.9, R=1.0, μ=1, σ=.1, η=2, xbar=[0, 10], n_x=100, n_c=100, n_y=10) \n",
    "\n",
    "# V, c = dpsolver.vfi(m1, maxiter=1000, callback=dpsolver.iterinfo)\n",
    "V, c = dpsolver.vfi_T(m1, T=100);\n",
    "v_c_plot(m1.x, V, c)\n"
   ]
  },
  {
   "cell_type": "markdown",
   "metadata": {
    "slideshow": {
     "slide_type": "slide"
    },
    "tags": []
   },
   "source": [
    "### Let's simulate Deaton's model: Precautionary savings allows consumer to smooth out income shocks"
   ]
  },
  {
   "cell_type": "code",
   "execution_count": null,
   "metadata": {},
   "outputs": [],
   "source": [
    "np.random.seed(42)\n",
    "def simulate(model,Tsim=99, T=100, A0=0):\n",
    "    V, c = dpsolver.vfi_T(model, T);  \n",
    "    x=model.x; \n",
    "    c_t = np.empty(Tsim)\n",
    "    x_t = np.empty(Tsim)\n",
    "    y_t = np.exp(np.random.normal(loc=model.μ, scale=model.σ, size=Tsim))\n",
    "    x_t[0]=A0+y_t[0];    \n",
    "    for t in range(Tsim):\n",
    "        c_interp = interpolate.interp1d(x[:,0],c[:,t],  bounds_error=False,fill_value='extrapolate')\n",
    "        c_t[t] = c_interp(x_t[t])  # Use the solution \n",
    "        if t<Tsim-1:\n",
    "            x_t[t+1] = model.R*(x_t[t]-c_t[t]) + y_t[t+1]\n",
    "    return y_t, x_t, c_t"
   ]
  },
  {
   "cell_type": "code",
   "execution_count": 107,
   "metadata": {},
   "outputs": [
    {
     "name": "stdout",
     "output_type": "stream",
     "text": [
      "<__main__.deaton object at 0x7fec8cf21b80> solved by backward induction using 2.42685 seconds\n"
     ]
    },
    {
     "data": {
      "image/png": "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\n",
      "text/plain": [
       "<Figure size 432x288 with 1 Axes>"
      ]
     },
     "metadata": {
      "needs_background": "light"
     },
     "output_type": "display_data"
    }
   ],
   "source": [
    "# Define model\n",
    "m1=deaton(β=.95, R=1.0, μ=1, σ=.3, η=2, xbar=[0, 20], n_x=100, n_c=150, n_y=10) \n",
    "# Solve and simulate\n",
    "y_t, x_t, c_t = simulate(m1, Tsim=40, T=501, A0=0)\n",
    "plt.plot(c_t, label=\"$c_t$\")       # Consumption\n",
    "plt.plot(y_t, label=\"$y_t$\")       # Income\n",
    "plt.plot(x_t-y_t, label=\"$A_t$\")   # Assets\n",
    "plt.legend()\n",
    "plt.show()    "
   ]
  },
  {
   "cell_type": "markdown",
   "metadata": {
    "slideshow": {
     "slide_type": "slide"
    }
   },
   "source": [
    "### Some lessons from this lecture\n",
    "1. Need to solve the integral to obtain the expected future value conditional current states and choices\n",
    "1. Quadrature methods\n",
    "    - **Gauss Legendre**: effective for computing expectations of functions of random variables where we cannot exploit structure from density but know the inverse cdf\n",
    "    - **Gauss Hermite**: very effective for computing expectations of functions of normally distributed random variables\n",
    "    - Gauss quadrature with $n$ nodes approximate integrals of functions that can be approximated by a $2n-1$ polybnomial\n",
    "\n",
    "\n",
    "1. Monte Carlo\n",
    "    - Noisy and not as effective as quadrture in in 1d\n",
    "    - But as we will learn next time Monte Carlo breaks the curse of dimensionality for multidimensional integration \n",
    "\n",
    "\n",
    "3. Consumption and savings with stochastic income (Deatons model)\n",
    "    - Used Legendre quadrature to compute expectations of value function wrt to log-normal distribution of income shocks \n",
    "    - Risk averse consumers (with high $\\eta$) who are subject to income uncertainty, save a buffer against bad income shocks. \n",
    "    - This gives consumer smoother consumption profiles \n",
    "    - We call this the precautionary savings motive. "
   ]
  }
 ],
 "metadata": {
  "celltoolbar": "Slideshow",
  "date": 1612589586.079556,
  "download_nb": false,
  "filename": "01_dp_intro.rst",
  "filename_with_path": "01_dp_intro",
  "kernelspec": {
   "display_name": "Python 3 (ipykernel)",
   "language": "python",
   "name": "python3"
  },
  "language_info": {
   "codemirror_mode": {
    "name": "ipython",
    "version": 3
   },
   "file_extension": ".py",
   "mimetype": "text/x-python",
   "name": "python",
   "nbconvert_exporter": "python",
   "pygments_lexer": "ipython3",
   "version": "3.8.12"
  },
  "title": "Dynamic Programming and Structural Econometrics #1"
 },
 "nbformat": 4,
 "nbformat_minor": 4
}
